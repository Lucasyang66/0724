{
  "nbformat": 4,
  "nbformat_minor": 0,
  "metadata": {
    "colab": {
      "provenance": [],
      "authorship_tag": "ABX9TyPh2tl4qG+ip7efFyPXyFzu",
      "include_colab_link": true
    },
    "kernelspec": {
      "name": "python3",
      "display_name": "Python 3"
    },
    "language_info": {
      "name": "python"
    }
  },
  "cells": [
    {
      "cell_type": "markdown",
      "metadata": {
        "id": "view-in-github",
        "colab_type": "text"
      },
      "source": [
        "<a href=\"https://colab.research.google.com/github/Lucasyang66/0724/blob/main/0724_1.ipynb\" target=\"_parent\"><img src=\"https://colab.research.google.com/assets/colab-badge.svg\" alt=\"Open In Colab\"/></a>"
      ]
    },
    {
      "cell_type": "code",
      "execution_count": 1,
      "metadata": {
        "colab": {
          "base_uri": "https://localhost:8080/"
        },
        "id": "6OOXbb2-q3x3",
        "outputId": "1a265945-73c8-42b0-acde-609a305e5acc"
      },
      "outputs": [
        {
          "output_type": "stream",
          "name": "stdout",
          "text": [
            "Hi\n"
          ]
        }
      ],
      "source": [
        "print(\"Hi\")"
      ]
    },
    {
      "cell_type": "markdown",
      "source": [
        "＃　標題"
      ],
      "metadata": {
        "id": "YSJjoaV5siBp"
      }
    },
    {
      "cell_type": "code",
      "source": [
        "a = 20\n",
        "b = a"
      ],
      "metadata": {
        "id": "noxwqPaOszRJ"
      },
      "execution_count": 10,
      "outputs": []
    },
    {
      "cell_type": "code",
      "source": [
        "print(a,b)"
      ],
      "metadata": {
        "colab": {
          "base_uri": "https://localhost:8080/"
        },
        "id": "tfhq-WqZ4bGa",
        "outputId": "5a4aa264-47af-482b-d7ac-096e363aaa39"
      },
      "execution_count": 11,
      "outputs": [
        {
          "output_type": "stream",
          "name": "stdout",
          "text": [
            "20 20\n"
          ]
        }
      ]
    },
    {
      "cell_type": "code",
      "source": [
        "name, age = \"Lucas\", 16\n",
        "print(name,age)"
      ],
      "metadata": {
        "id": "Xxg2zSTf41K1"
      },
      "execution_count": null,
      "outputs": []
    },
    {
      "cell_type": "code",
      "source": [
        "a = b = c = d = e = f = 50"
      ],
      "metadata": {
        "id": "E1EMICbv48ow"
      },
      "execution_count": 17,
      "outputs": []
    },
    {
      "cell_type": "code",
      "source": [
        "print(a,b,c,d,e,f)"
      ],
      "metadata": {
        "colab": {
          "base_uri": "https://localhost:8080/"
        },
        "id": "gAeA4N435p6G",
        "outputId": "4f975897-74bf-43a7-ea9a-f83c1d4934ad"
      },
      "execution_count": 18,
      "outputs": [
        {
          "output_type": "stream",
          "name": "stdout",
          "text": [
            "50 50 50 50 50 50\n"
          ]
        }
      ]
    },
    {
      "cell_type": "code",
      "source": [
        "A = 10"
      ],
      "metadata": {
        "id": "3-HMgYS67PZi"
      },
      "execution_count": 20,
      "outputs": []
    },
    {
      "cell_type": "code",
      "source": [
        "print(a,A)"
      ],
      "metadata": {
        "colab": {
          "base_uri": "https://localhost:8080/"
        },
        "id": "MIyx9bTm7Ra-",
        "outputId": "9c0b0128-7ea3-42c1-c122-1a2d179786cf"
      },
      "execution_count": 21,
      "outputs": [
        {
          "output_type": "stream",
          "name": "stdout",
          "text": [
            "50 10\n"
          ]
        }
      ]
    },
    {
      "cell_type": "code",
      "source": [
        "g = h = i = j = k = 50"
      ],
      "metadata": {
        "id": "VRyxxPgB7uyk"
      },
      "execution_count": 22,
      "outputs": []
    },
    {
      "cell_type": "code",
      "source": [
        "G = H = I = J = K = 60"
      ],
      "metadata": {
        "id": "g4YBaQIJ73JE"
      },
      "execution_count": 23,
      "outputs": []
    },
    {
      "cell_type": "code",
      "source": [
        "print(g+G+h+H+i+I+j+J+k+K)"
      ],
      "metadata": {
        "colab": {
          "base_uri": "https://localhost:8080/"
        },
        "id": "OorC4ejM77LM",
        "outputId": "6dddc9e4-8e21-4feb-b5df-9845d6f8c4fe"
      },
      "execution_count": 24,
      "outputs": [
        {
          "output_type": "stream",
          "name": "stdout",
          "text": [
            "550\n"
          ]
        }
      ]
    },
    {
      "cell_type": "code",
      "source": [
        "l = 1\n",
        "#declare new array l\n",
        "m = 2\n",
        "#declare new array m\n",
        "n = 3\n",
        "#declare new array"
      ],
      "metadata": {
        "id": "3KnlB6ohAsH-"
      },
      "execution_count": 28,
      "outputs": []
    },
    {
      "cell_type": "code",
      "source": [
        "str1 = \"Lucas says hi'\"\n",
        "str2 = 'Lucas says hi\"'"
      ],
      "metadata": {
        "id": "pU6hEoTb_n6j"
      },
      "execution_count": 26,
      "outputs": []
    },
    {
      "cell_type": "code",
      "source": [
        "print(str1)\n",
        "print(str2)"
      ],
      "metadata": {
        "colab": {
          "base_uri": "https://localhost:8080/"
        },
        "id": "0v56EFoe_1JF",
        "outputId": "bd8e46bb-3740-48d6-b69e-3744f8bc10a0"
      },
      "execution_count": 27,
      "outputs": [
        {
          "output_type": "stream",
          "name": "stdout",
          "text": [
            "Lucas says hi'\n",
            "Lucas says hi\"\n"
          ]
        }
      ]
    }
  ]
}